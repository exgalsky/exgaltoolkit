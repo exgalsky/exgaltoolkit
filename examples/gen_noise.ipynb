{
 "cells": [
  {
   "cell_type": "code",
   "execution_count": null,
   "metadata": {},
   "outputs": [],
   "source": [
    "import exgaltoolkit as xt \n",
    "import jax.numpy as jnp\n",
    "import numpy as np"
   ]
  },
  {
   "cell_type": "markdown",
   "metadata": {},
   "source": [
    "## Initialize the `Sky` class"
   ]
  },
  {
   "cell_type": "code",
   "execution_count": null,
   "metadata": {},
   "outputs": [],
   "source": [
    "mocksky = xt.Sky(ID = xt.mockgen.defaults.ID,\n",
    "               seed = xt.mockgen.defaults.seed,\n",
    "                  N = xt.mockgen.defaults.N,\n",
    "              Niter = xt.mockgen.defaults.Niter,\n",
    "               Lbox = xt.mockgen.defaults.Lbox,\n",
    "              zInit = xt.mockgen.defaults.zInit,\n",
    "              input = xt.mockgen.defaults.input,\n",
    "           laststep = 'noise',\n",
    "              Nside = xt.mockgen.defaults.Nside,\n",
    "                icw = xt.mockgen.defaults.icw,\n",
    "               nlpt = xt.mockgen.defaults.nlpt,\n",
    "                gpu = xt.mockgen.defaults.gpu,\n",
    "                mpi = False)"
   ]
  },
  {
   "cell_type": "markdown",
   "metadata": {},
   "source": [
    "## Run `mocksky` instance to produce noise"
   ]
  },
  {
   "cell_type": "code",
   "execution_count": null,
   "metadata": {},
   "outputs": [],
   "source": [
    "mocksky.run()"
   ]
  }
 ],
 "metadata": {
  "kernelspec": {
   "display_name": "Python 3",
   "language": "python",
   "name": "python3"
  },
  "language_info": {
   "name": "python",
   "version": "3.10.14"
  }
 },
 "nbformat": 4,
 "nbformat_minor": 2
}
